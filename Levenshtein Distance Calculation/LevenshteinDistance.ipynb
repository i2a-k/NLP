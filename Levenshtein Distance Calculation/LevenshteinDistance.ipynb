{
  "nbformat": 4,
  "nbformat_minor": 0,
  "metadata": {
    "colab": {
      "name": "LevenshteinDistance.ipynb",
      "provenance": [],
      "collapsed_sections": []
    },
    "kernelspec": {
      "name": "python3",
      "display_name": "Python 3"
    }
  },
  "cells": [
    {
      "cell_type": "code",
      "metadata": {
        "id": "hmyy6F6k-vX3",
        "colab_type": "code",
        "colab": {}
      },
      "source": [
        "import numpy as np"
      ],
      "execution_count": 1,
      "outputs": []
    },
    {
      "cell_type": "code",
      "metadata": {
        "id": "Bv546Cai9Xg0",
        "colab_type": "code",
        "colab": {}
      },
      "source": [
        "#Levenshtein Distance\n",
        "def lev_dist(s1, s2, sub_cost=2):\n",
        "  s1 = s1.lower()\n",
        "  s2 = s2.lower()\n",
        "  rows = len(s1)+1\n",
        "  cols = len(s2)+1\n",
        "  D = np.zeros((rows,cols),dtype = int)\n",
        "\n",
        "  #Initialization\n",
        "  for i in range(1, rows):\n",
        "    for j in range(1,cols):\n",
        "      D[i][0] = i\n",
        "      D[0][j] = j\n",
        "\n",
        "  #Reccurence Relation\n",
        "  for k in range(1, cols):\n",
        "    for l in range(1, rows):\n",
        "      if s1[l-1] == s2[k-1]:\n",
        "        cost = 0\n",
        "      else:\n",
        "        cost = sub_cost\n",
        "\n",
        "      D[l][k] = min(D[l-1][k] + 1, D[l][k-1] + 1, D[l-1][k-1] + cost)\n",
        "\n",
        "  #Termination\n",
        "  return D[l][k]     "
      ],
      "execution_count": 2,
      "outputs": []
    },
    {
      "cell_type": "code",
      "metadata": {
        "id": "RZR0EjcP-pla",
        "colab_type": "code",
        "colab": {
          "base_uri": "https://localhost:8080/",
          "height": 34
        },
        "outputId": "908d16e7-c57e-4d51-9250-c373e4703d82"
      },
      "source": [
        "#Example 1\n",
        "Str1 = \"INTUITION\"\n",
        "Str2 = \"EXECUTION\"\n",
        "Distance = lev_dist(Str1,Str2)\n",
        "print(\"The distance between these words is equal to {}\".format(Distance))"
      ],
      "execution_count": 3,
      "outputs": [
        {
          "output_type": "stream",
          "text": [
            "The distance between these words is equal to 8\n"
          ],
          "name": "stdout"
        }
      ]
    }
  ]
}
