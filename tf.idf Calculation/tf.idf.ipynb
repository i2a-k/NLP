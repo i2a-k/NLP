{
  "nbformat": 4,
  "nbformat_minor": 0,
  "metadata": {
    "colab": {
      "name": "tf.idf.ipynb",
      "provenance": [],
      "collapsed_sections": []
    },
    "kernelspec": {
      "name": "python3",
      "display_name": "Python 3"
    }
  },
  "cells": [
    {
      "cell_type": "code",
      "metadata": {
        "id": "uoijkZM1F8z_",
        "colab_type": "code",
        "colab": {}
      },
      "source": [
        "import numpy as np\n",
        "from __future__ import unicode_literals\n",
        "from hazm import *\n",
        "import glob\n",
        "import pandas as pd"
      ],
      "execution_count": 0,
      "outputs": []
    },
    {
      "cell_type": "code",
      "metadata": {
        "id": "yOCysUeqIY3Q",
        "colab_type": "code",
        "colab": {}
      },
      "source": [
        "def dataTokenize(txtFile):\n",
        "  file = open(txtFile, \"rt\")\n",
        "  data = file.read()\n",
        "\n",
        "  punctuations = ':؛)([]!،.؟'\n",
        "  noPunctData = \"\"\n",
        "  for char in data:\n",
        "    if char not in punctuations:\n",
        "      noPunctData = noPunctData + char\n",
        "\n",
        "  normalizer = Normalizer()\n",
        "  data = normalizer.normalize(noPunctData)\n",
        "  dataTokens = word_tokenize(data)\n",
        "  \n",
        "  return dataTokens"
      ],
      "execution_count": 0,
      "outputs": []
    },
    {
      "cell_type": "code",
      "metadata": {
        "id": "NRChcyCwLSvf",
        "colab_type": "code",
        "colab": {}
      },
      "source": [
        "def queryTokenize(query, stopWords = 'Yes'):\n",
        "  if stopWords == 'No':\n",
        "    query = query.replace(' در ', ' ').replace(' از ', ' ').replace(' به ', ' ').replace(' را ', ' ').replace(' و ', ' ').replace(' با ', ' ')\n",
        "  normalizer = Normalizer()\n",
        "  query = normalizer.normalize(query)\n",
        "  queryTokens = word_tokenize(query)\n",
        "\n",
        "  return queryTokens"
      ],
      "execution_count": 0,
      "outputs": []
    },
    {
      "cell_type": "code",
      "metadata": {
        "id": "8kHPvGNEwi2Y",
        "colab_type": "code",
        "outputId": "e7c41582-6c5e-4dd4-c7d2-6f1520471de2",
        "colab": {
          "base_uri": "https://localhost:8080/",
          "height": 420
        }
      },
      "source": [
        "queries = [\"سهمیه کشورهای آسیایی در فیفا\", \"سرمربی تیم ملی ایران افشین قطبی\", \"دانشمند مطرح در زمینه سلولهای بنیادی\", \"دین و علم در کلام شهردار تهران\"]\n",
        "allFolders = glob.glob('/NLP/Data/*')\n",
        "\n",
        "for query in queries:\n",
        "  adresses = {}\n",
        "  allScoresT = []\n",
        "  allScoresS_tf = []\n",
        "  allScoresS_tfidf = []\n",
        "  queryTokens = queryTokenize(query, stopWords = 'No')\n",
        "  for folder in allFolders:\n",
        "    adresses[folder] = glob.glob(folder + '/*')\n",
        "    for txtFile in adresses[folder]:\n",
        "      dataTokens = dataTokenize(txtFile)\n",
        "      count = {}\n",
        "      for word in queryTokens:\n",
        "        count[word] = 0 \n",
        "        if word in dataTokens:\n",
        "          for w in dataTokens:\n",
        "            if word == w:\n",
        "              count[word] += 1\n",
        "\n",
        "      # tf Score\n",
        "      tf = 0\n",
        "      for j in count:\n",
        "        if count[j] > 0:\n",
        "          tf += 1 + np.log10(count[j])\n",
        "\n",
        "      #tf.idf Score\n",
        "      tfidf = 0\n",
        "      N = len(adresses[folder])\n",
        "      for j in count:\n",
        "        TF = 0\n",
        "        df = 0\n",
        "        for text in adresses[folder]:\n",
        "          tempTokens = dataTokenize(text)\n",
        "          if j in tempTokens:\n",
        "            df += 1\n",
        "        if count[j] > 0:\n",
        "          TF = 1 + np.log10(count[j])\n",
        "        if df == 0:\n",
        "          df = 1\n",
        "        tfidf += (TF * np.log10(N/df))\n",
        "\n",
        "      allScoresT.append(txtFile)\n",
        "      allScoresS_tf.append(tf)\n",
        "      allScoresS_tfidf.append(tfidf)\n",
        "\n",
        "  allScoresT = np.asarray(allScoresT) \n",
        "  allScoresS_tf = np.asarray(allScoresS_tf)\n",
        "  allScoresS_tfidf = np.asarray(allScoresS_tfidf)  \n",
        "  tfIndex = np.argmax(allScoresS_tf)\n",
        "  tfidfIndex = np.argmax(allScoresS_tfidf)\n",
        "  print(\"Query: \", query)\n",
        "  print(\"by tf: \", allScoresT[tfIndex])\n",
        "  print(\"by tf.idf: \", allScoresT[tfidfIndex])\n",
        "  print('tf = ' , allScoresS_tf[tfIndex])\n",
        "  print('tfidf = ', allScoresS_tfidf[tfidfIndex])\n",
        "  print('----------------------------')"
      ],
      "execution_count": 6,
      "outputs": [
        {
          "output_type": "stream",
          "text": [
            "Query:  سهمیه کشورهای آسیایی در فیفا\n",
            "by tf:  /content/gdrive/My Drive/Colab Notebooks/NLP/Data/ورزشی/13840320-txt-0539122_utf.txt\n",
            "by tf.idf:  /content/gdrive/My Drive/Colab Notebooks/NLP/Data/ورزشی/13840320-txt-0539122_utf.txt\n",
            "tf =  5.146128035678238\n",
            "tfidf =  2.579404448847027\n",
            "----------------------------\n",
            "Query:  سرمربی تیم ملی ایران افشین قطبی\n",
            "by tf:  /content/gdrive/My Drive/Colab Notebooks/NLP/Data/ورزشی/13880319-txt-1353520_utf.txt\n",
            "by tf.idf:  /content/gdrive/My Drive/Colab Notebooks/NLP/Data/ورزشی/13880319-txt-1353520_utf.txt\n",
            "tf =  11.36078268987328\n",
            "tfidf =  2.9809100171666443\n",
            "----------------------------\n",
            "Query:  دانشمند مطرح در زمینه سلولهای بنیادی\n",
            "by tf:  /content/gdrive/My Drive/Colab Notebooks/NLP/Data/فناوري/13850903-txt-0830601_utf.txt\n",
            "by tf.idf:  /content/gdrive/My Drive/Colab Notebooks/NLP/Data/فناوري/13850903-txt-0830601_utf.txt\n",
            "tf =  4.556302500767288\n",
            "tfidf =  2.404047171865991\n",
            "----------------------------\n",
            "Query:  دین و علم در کلام شهردار تهران\n",
            "by tf:  /content/gdrive/My Drive/Colab Notebooks/NLP/Data/اجتماعی/13810821-txt-0172902_utf.txt\n",
            "by tf.idf:  /content/gdrive/My Drive/Colab Notebooks/NLP/Data/اجتماعی/13810821-txt-0172902_utf.txt\n",
            "tf =  7.569373909615046\n",
            "tfidf =  3.0981244452333763\n",
            "----------------------------\n"
          ],
          "name": "stdout"
        }
      ]
    }
  ]
}
